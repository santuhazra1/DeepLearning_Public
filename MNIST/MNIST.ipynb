{
  "nbformat": 4,
  "nbformat_minor": 0,
  "metadata": {
    "colab": {
      "name": "MNIST.ipynb",
      "provenance": [],
      "collapsed_sections": []
    },
    "kernelspec": {
      "name": "python3",
      "display_name": "Python 3"
    },
    "accelerator": "GPU"
  },
  "cells": [
    {
      "cell_type": "code",
      "metadata": {
        "id": "0SJyVpgSxHt4",
        "colab_type": "code",
        "colab": {
          "base_uri": "https://localhost:8080/",
          "height": 80
        },
        "outputId": "d50ed197-66d9-4fb6-b968-010a055b8ac5"
      },
      "source": [
        "# https://keras.io/\n",
        "!pip install -q keras\n",
        "import keras\n",
        "\n",
        "import numpy as np\n",
        "\n",
        "from keras.models import Sequential\n",
        "from keras.layers import Dense, Dropout, Activation, Flatten, Add, BatchNormalization\n",
        "from keras.layers import Convolution2D, MaxPooling2D\n",
        "from keras.utils import np_utils\n",
        "from keras.regularizers import l2\n",
        "\n",
        "from keras.datasets import mnist"
      ],
      "execution_count": 1,
      "outputs": [
        {
          "output_type": "stream",
          "text": [
            "Using TensorFlow backend.\n"
          ],
          "name": "stderr"
        },
        {
          "output_type": "display_data",
          "data": {
            "text/html": [
              "<p style=\"color: red;\">\n",
              "The default version of TensorFlow in Colab will soon switch to TensorFlow 2.x.<br>\n",
              "We recommend you <a href=\"https://www.tensorflow.org/guide/migrate\" target=\"_blank\">upgrade</a> now \n",
              "or ensure your notebook will continue to use TensorFlow 1.x via the <code>%tensorflow_version 1.x</code> magic:\n",
              "<a href=\"https://colab.research.google.com/notebooks/tensorflow_version.ipynb\" target=\"_blank\">more info</a>.</p>\n"
            ],
            "text/plain": [
              "<IPython.core.display.HTML object>"
            ]
          },
          "metadata": {
            "tags": []
          }
        }
      ]
    },
    {
      "cell_type": "markdown",
      "metadata": {
        "id": "alV77CfsdfTo",
        "colab_type": "text"
      },
      "source": [
        "### Let's load the pre-shuffled MNIST data. Out of total 70k data we have 60k hand written image as train data and 10k hand written image as test data which is autometically predefined in mnist dataset."
      ]
    },
    {
      "cell_type": "code",
      "metadata": {
        "id": "YlEUplvoxKAT",
        "colab_type": "code",
        "outputId": "a9a486d1-0635-4db4-8fcc-7048cd7c95e2",
        "colab": {
          "base_uri": "https://localhost:8080/",
          "height": 51
        }
      },
      "source": [
        "(X_train, y_train), (X_test, y_test) = mnist.load_data()\n"
      ],
      "execution_count": 2,
      "outputs": [
        {
          "output_type": "stream",
          "text": [
            "Downloading data from https://s3.amazonaws.com/img-datasets/mnist.npz\n",
            "11493376/11490434 [==============================] - 1s 0us/step\n"
          ],
          "name": "stdout"
        }
      ]
    },
    {
      "cell_type": "markdown",
      "metadata": {
        "id": "z06QclzqdjGE",
        "colab_type": "text"
      },
      "source": [
        "### Let's see how our MNIST data looks like in below. Here we can see the 5th hand written digit in X_train as 2 in the displayed image."
      ]
    },
    {
      "cell_type": "code",
      "metadata": {
        "id": "I6Y9Va-xxMXG",
        "colab_type": "code",
        "outputId": "f10dba00-127a-4b71-e740-842302237438",
        "colab": {
          "base_uri": "https://localhost:8080/",
          "height": 299
        }
      },
      "source": [
        "print (X_train.shape)\n",
        "from matplotlib import pyplot as plt\n",
        "%matplotlib inline\n",
        "plt.imshow(X_train[8])"
      ],
      "execution_count": 3,
      "outputs": [
        {
          "output_type": "stream",
          "text": [
            "(60000, 28, 28)\n"
          ],
          "name": "stdout"
        },
        {
          "output_type": "execute_result",
          "data": {
            "text/plain": [
              "<matplotlib.image.AxesImage at 0x7f7c68ee99e8>"
            ]
          },
          "metadata": {
            "tags": []
          },
          "execution_count": 3
        },
        {
          "output_type": "display_data",
          "data": {
            "image/png": "[encoded data removed]",
            "text/plain": [
              "<Figure size 432x288 with 1 Axes>"
            ]
          },
          "metadata": {
            "tags": []
          }
        }
      ]
    },
    {
      "cell_type": "markdown",
      "metadata": {
        "id": "SzALZ_ZHds5Q",
        "colab_type": "text"
      },
      "source": [
        "### Now we have to shape all the image size in test and train so that we can apply out CNN model based on the input image shape and we will not have any problem while testing with test images with same shape. Let's shape train and test data to (28 , 28 , 1) which is going to be the input dimension of our model."
      ]
    },
    {
      "cell_type": "code",
      "metadata": {
        "id": "lxDZxPhhxOgO",
        "colab_type": "code",
        "colab": {}
      },
      "source": [
        "X_train = X_train.reshape(X_train.shape[0], 28, 28,1)\n",
        "X_test = X_test.reshape(X_test.shape[0], 28, 28,1)"
      ],
      "execution_count": 0,
      "outputs": []
    },
    {
      "cell_type": "markdown",
      "metadata": {
        "id": "aW0zPtcNPy9a",
        "colab_type": "text"
      },
      "source": [
        "### Here in the below section we are going to scale our pixel values to 0-1. So to train a robust we must scale the pixcel values."
      ]
    },
    {
      "cell_type": "code",
      "metadata": {
        "id": "wRJ3MnfUPzcl",
        "colab_type": "code",
        "colab": {}
      },
      "source": [
        "X_train = X_train.astype('float32')\n",
        "X_test = X_test.astype('float32')\n",
        "X_train /= 255\n",
        "X_test /= 255"
      ],
      "execution_count": 0,
      "outputs": []
    },
    {
      "cell_type": "markdown",
      "metadata": {
        "id": "KQfxM5l52kaY",
        "colab_type": "text"
      },
      "source": [
        "### Now lets normalize the image set as we have mention to achieve this in the begining:"
      ]
    },
    {
      "cell_type": "code",
      "metadata": {
        "id": "tXbXDGRr2lNy",
        "colab_type": "code",
        "outputId": "03b1749a-e06e-4a00-e189-5f712e56df3e",
        "colab": {
          "base_uri": "https://localhost:8080/",
          "height": 105
        }
      },
      "source": [
        "from keras.preprocessing.image import ImageDataGenerator\n",
        "# create generator that centers pixel values\n",
        "datagen = ImageDataGenerator(featurewise_center=True, featurewise_std_normalization=True)\n",
        "iterator = datagen.flow(X_train, y_train, batch_size=len(X_train), shuffle=False)\n",
        "trainX, trainy = iterator.next()"
      ],
      "execution_count": 50,
      "outputs": [
        {
          "output_type": "stream",
          "text": [
            "/usr/local/lib/python3.6/dist-packages/keras_preprocessing/image/image_data_generator.py:716: UserWarning: This ImageDataGenerator specifies `featurewise_center`, but it hasn't been fit on any training data. Fit it first by calling `.fit(numpy_data)`.\n",
            "  warnings.warn('This ImageDataGenerator specifies '\n",
            "/usr/local/lib/python3.6/dist-packages/keras_preprocessing/image/image_data_generator.py:724: UserWarning: This ImageDataGenerator specifies `featurewise_std_normalization`, but it hasn't been fit on any training data. Fit it first by calling `.fit(numpy_data)`.\n",
            "  warnings.warn('This ImageDataGenerator specifies '\n"
          ],
          "name": "stderr"
        }
      ]
    },
    {
      "cell_type": "markdown",
      "metadata": {
        "id": "uiG0Hw6ad0E0",
        "colab_type": "text"
      },
      "source": [
        "### Let's see how Y looks like as Y values are the actual no corrosponding to an hand written image."
      ]
    },
    {
      "cell_type": "code",
      "metadata": {
        "id": "7LdYiW6ixR9e",
        "colab_type": "code",
        "outputId": "7fb90fe3-aa0b-4f51-aad7-fd3a947e2edf",
        "colab": {
          "base_uri": "https://localhost:8080/",
          "height": 34
        }
      },
      "source": [
        "trainy[:10]"
      ],
      "execution_count": 51,
      "outputs": [
        {
          "output_type": "execute_result",
          "data": {
            "text/plain": [
              "array([5, 0, 4, 1, 9, 2, 1, 3, 1, 4], dtype=uint8)"
            ]
          },
          "metadata": {
            "tags": []
          },
          "execution_count": 51
        }
      ]
    },
    {
      "cell_type": "markdown",
      "metadata": {
        "id": "UhsP8e_Dd7Tm",
        "colab_type": "text"
      },
      "source": [
        "### Now we have to convert Y values from 1-dimentional class matrix to 10 dimentional class matrix so that we can predict out of 10 class which class it is predicting."
      ]
    },
    {
      "cell_type": "code",
      "metadata": {
        "id": "rFR0F9j0xVp2",
        "colab_type": "code",
        "outputId": "d843027f-568a-4863-f621-4f7d319d491f",
        "colab": {
          "base_uri": "https://localhost:8080/",
          "height": 187
        }
      },
      "source": [
        "trainy = np_utils.to_categorical(trainy, 10)\n",
        "Y_test = np_utils.to_categorical(y_test, 10)\n",
        "trainy[:10]"
      ],
      "execution_count": 52,
      "outputs": [
        {
          "output_type": "execute_result",
          "data": {
            "text/plain": [
              "array([[0., 0., 0., 0., 0., 1., 0., 0., 0., 0.],\n",
              "       [1., 0., 0., 0., 0., 0., 0., 0., 0., 0.],\n",
              "       [0., 0., 0., 0., 1., 0., 0., 0., 0., 0.],\n",
              "       [0., 1., 0., 0., 0., 0., 0., 0., 0., 0.],\n",
              "       [0., 0., 0., 0., 0., 0., 0., 0., 0., 1.],\n",
              "       [0., 0., 1., 0., 0., 0., 0., 0., 0., 0.],\n",
              "       [0., 1., 0., 0., 0., 0., 0., 0., 0., 0.],\n",
              "       [0., 0., 0., 1., 0., 0., 0., 0., 0., 0.],\n",
              "       [0., 1., 0., 0., 0., 0., 0., 0., 0., 0.],\n",
              "       [0., 0., 0., 0., 1., 0., 0., 0., 0., 0.]], dtype=float32)"
            ]
          },
          "metadata": {
            "tags": []
          },
          "execution_count": 52
        }
      ]
    },
    {
      "cell_type": "markdown",
      "metadata": {
        "id": "2cBWhKcPd_0p",
        "colab_type": "text"
      },
      "source": [
        "### Now let's build our CNN model which we are going to apply on our train data for training the model later. Here we are going to use 2-D convolution, maxpooling, dropout, batch normalization and softmax activation function to get output."
      ]
    },
    {
      "cell_type": "code",
      "metadata": {
        "id": "mDpXf4YQxXRm",
        "colab_type": "code",
        "outputId": "3ea3cd5c-dd85-4270-9586-b0af7f1cfa21",
        "colab": {
          "base_uri": "https://localhost:8080/",
          "height": 221
        }
      },
      "source": [
        "from keras.layers import Activation\n",
        "model = Sequential()\n",
        "\n",
        " \n",
        "model.add(Convolution2D(8, 3, 3, input_shape=(28,28,1), kernel_regularizer=l2(0.001)))#26\n",
        "model.add(BatchNormalization())\n",
        "model.add(Activation('relu'))\n",
        "model.add(Dropout(0.1))\n",
        "model.add(Convolution2D(10, 3, 3, kernel_regularizer=l2(0.001)))#24\n",
        "model.add(BatchNormalization())\n",
        "model.add(Activation('relu'))\n",
        "model.add(Dropout(0.1))\n",
        "\n",
        "model.add(Convolution2D(12, 3, 3, kernel_regularizer=l2(0.001)))#22\n",
        "model.add(BatchNormalization())\n",
        "model.add(Activation('relu'))\n",
        "model.add(Dropout(0.1))\n",
        "\n",
        "model.add(Convolution2D(8, 1, 1, kernel_regularizer=l2(0.001)))\n",
        "model.add(Activation('relu'))\n",
        "model.add(MaxPooling2D(pool_size=(2, 2)))#11\n",
        "\n",
        "model.add(Convolution2D(10, 3, 3, kernel_regularizer=l2(0.001)))#9\n",
        "model.add(BatchNormalization())\n",
        "model.add(Activation('relu'))\n",
        "model.add(Dropout(0.1))\n",
        "\n",
        "model.add(Convolution2D(11, 3, 3, kernel_regularizer=l2(0.001)))#7\n",
        "model.add(BatchNormalization())\n",
        "model.add(Activation('relu'))\n",
        "model.add(Dropout(0.1))\n",
        "\n",
        "model.add(Convolution2D(13, 3, 3, kernel_regularizer=l2(0.001)))#5\n",
        "model.add(BatchNormalization())\n",
        "model.add(Activation('relu'))\n",
        "model.add(Dropout(0.1))\n",
        "\n",
        "model.add(Convolution2D(10, 1, 1, kernel_regularizer=l2(0.001)))#5\n",
        "model.add(Activation('relu'))\n",
        "model.add(Convolution2D(10, 5, 5))\n",
        "\n",
        "model.add(Flatten())\n",
        "model.add(Activation('softmax'))"
      ],
      "execution_count": 53,
      "outputs": [
        {
          "output_type": "stream",
          "text": [
            "/usr/local/lib/python3.6/dist-packages/ipykernel_launcher.py:5: UserWarning: Update your `Conv2D` call to the Keras 2 API: `Conv2D(8, (3, 3), input_shape=(28, 28, 1..., kernel_regularizer=<keras.reg...)`\n",
            "  \"\"\"\n",
            "/usr/local/lib/python3.6/dist-packages/ipykernel_launcher.py:9: UserWarning: Update your `Conv2D` call to the Keras 2 API: `Conv2D(10, (3, 3), kernel_regularizer=<keras.reg...)`\n",
            "  if __name__ == '__main__':\n",
            "/usr/local/lib/python3.6/dist-packages/ipykernel_launcher.py:14: UserWarning: Update your `Conv2D` call to the Keras 2 API: `Conv2D(12, (3, 3), kernel_regularizer=<keras.reg...)`\n",
            "  \n",
            "/usr/local/lib/python3.6/dist-packages/ipykernel_launcher.py:19: UserWarning: Update your `Conv2D` call to the Keras 2 API: `Conv2D(8, (1, 1), kernel_regularizer=<keras.reg...)`\n",
            "/usr/local/lib/python3.6/dist-packages/ipykernel_launcher.py:23: UserWarning: Update your `Conv2D` call to the Keras 2 API: `Conv2D(10, (3, 3), kernel_regularizer=<keras.reg...)`\n",
            "/usr/local/lib/python3.6/dist-packages/ipykernel_launcher.py:28: UserWarning: Update your `Conv2D` call to the Keras 2 API: `Conv2D(11, (3, 3), kernel_regularizer=<keras.reg...)`\n",
            "/usr/local/lib/python3.6/dist-packages/ipykernel_launcher.py:33: UserWarning: Update your `Conv2D` call to the Keras 2 API: `Conv2D(13, (3, 3), kernel_regularizer=<keras.reg...)`\n",
            "/usr/local/lib/python3.6/dist-packages/ipykernel_launcher.py:38: UserWarning: Update your `Conv2D` call to the Keras 2 API: `Conv2D(10, (1, 1), kernel_regularizer=<keras.reg...)`\n",
            "/usr/local/lib/python3.6/dist-packages/ipykernel_launcher.py:40: UserWarning: Update your `Conv2D` call to the Keras 2 API: `Conv2D(10, (5, 5))`\n"
          ],
          "name": "stderr"
        }
      ]
    },
    {
      "cell_type": "code",
      "metadata": {
        "id": "92wz2toZj6CY",
        "colab_type": "code",
        "colab": {
          "base_uri": "https://localhost:8080/",
          "height": 1000
        },
        "outputId": "68852ecb-56c6-46eb-8187-32df3a6e9efd"
      },
      "source": [
        "model.summary()"
      ],
      "execution_count": 54,
      "outputs": [
        {
          "output_type": "stream",
          "text": [
            "Model: \"sequential_11\"\n",
            "_________________________________________________________________\n",
            "Layer (type)                 Output Shape              Param #   \n",
            "=================================================================\n",
            "conv2d_91 (Conv2D)           (None, 26, 26, 8)         80        \n",
            "_________________________________________________________________\n",
            "batch_normalization_61 (Batc (None, 26, 26, 8)         32        \n",
            "_________________________________________________________________\n",
            "activation_91 (Activation)   (None, 26, 26, 8)         0         \n",
            "_________________________________________________________________\n",
            "dropout_61 (Dropout)         (None, 26, 26, 8)         0         \n",
            "_________________________________________________________________\n",
            "conv2d_92 (Conv2D)           (None, 24, 24, 10)        730       \n",
            "_________________________________________________________________\n",
            "batch_normalization_62 (Batc (None, 24, 24, 10)        40        \n",
            "_________________________________________________________________\n",
            "activation_92 (Activation)   (None, 24, 24, 10)        0         \n",
            "_________________________________________________________________\n",
            "dropout_62 (Dropout)         (None, 24, 24, 10)        0         \n",
            "_________________________________________________________________\n",
            "conv2d_93 (Conv2D)           (None, 22, 22, 12)        1092      \n",
            "_________________________________________________________________\n",
            "batch_normalization_63 (Batc (None, 22, 22, 12)        48        \n",
            "_________________________________________________________________\n",
            "activation_93 (Activation)   (None, 22, 22, 12)        0         \n",
            "_________________________________________________________________\n",
            "dropout_63 (Dropout)         (None, 22, 22, 12)        0         \n",
            "_________________________________________________________________\n",
            "conv2d_94 (Conv2D)           (None, 22, 22, 8)         104       \n",
            "_________________________________________________________________\n",
            "activation_94 (Activation)   (None, 22, 22, 8)         0         \n",
            "_________________________________________________________________\n",
            "max_pooling2d_11 (MaxPooling (None, 11, 11, 8)         0         \n",
            "_________________________________________________________________\n",
            "conv2d_95 (Conv2D)           (None, 9, 9, 10)          730       \n",
            "_________________________________________________________________\n",
            "batch_normalization_64 (Batc (None, 9, 9, 10)          40        \n",
            "_________________________________________________________________\n",
            "activation_95 (Activation)   (None, 9, 9, 10)          0         \n",
            "_________________________________________________________________\n",
            "dropout_64 (Dropout)         (None, 9, 9, 10)          0         \n",
            "_________________________________________________________________\n",
            "conv2d_96 (Conv2D)           (None, 7, 7, 11)          1001      \n",
            "_________________________________________________________________\n",
            "batch_normalization_65 (Batc (None, 7, 7, 11)          44        \n",
            "_________________________________________________________________\n",
            "activation_96 (Activation)   (None, 7, 7, 11)          0         \n",
            "_________________________________________________________________\n",
            "dropout_65 (Dropout)         (None, 7, 7, 11)          0         \n",
            "_________________________________________________________________\n",
            "conv2d_97 (Conv2D)           (None, 5, 5, 13)          1300      \n",
            "_________________________________________________________________\n",
            "batch_normalization_66 (Batc (None, 5, 5, 13)          52        \n",
            "_________________________________________________________________\n",
            "activation_97 (Activation)   (None, 5, 5, 13)          0         \n",
            "_________________________________________________________________\n",
            "dropout_66 (Dropout)         (None, 5, 5, 13)          0         \n",
            "_________________________________________________________________\n",
            "conv2d_98 (Conv2D)           (None, 5, 5, 10)          140       \n",
            "_________________________________________________________________\n",
            "activation_98 (Activation)   (None, 5, 5, 10)          0         \n",
            "_________________________________________________________________\n",
            "conv2d_99 (Conv2D)           (None, 1, 1, 10)          2510      \n",
            "_________________________________________________________________\n",
            "flatten_11 (Flatten)         (None, 10)                0         \n",
            "_________________________________________________________________\n",
            "activation_99 (Activation)   (None, 10)                0         \n",
            "=================================================================\n",
            "Total params: 7,943\n",
            "Trainable params: 7,815\n",
            "Non-trainable params: 128\n",
            "_________________________________________________________________\n"
          ],
          "name": "stdout"
        }
      ]
    },
    {
      "cell_type": "markdown",
      "metadata": {
        "id": "S1olbXm4eKHs",
        "colab_type": "text"
      },
      "source": [
        "### Lets's compile the model with adam optimizer ,loss as cross entropy and accuracy as validation matrix. After compiling the model we are going to train it with training data and let's see how much training accuracy we get after training completion. Here we have used batch size as 256 and total no of epoch 50 to train the model."
      ]
    },
    {
      "cell_type": "code",
      "metadata": {
        "id": "L2IicGJ4x3Be",
        "colab_type": "code",
        "colab": {}
      },
      "source": [
        "from keras.optimizers import Adam, SGD\n",
        "from keras.callbacks import LearningRateScheduler\n",
        "from keras.callbacks import ModelCheckpoint\n",
        "\n",
        "def scheduler(epoch, lr):\n",
        "  return round(0.003 * 1/(1 + 0.319 * epoch), 10)\n",
        "\n",
        "model.compile(loss='categorical_crossentropy', optimizer=Adam(lr=0.003), metrics=['accuracy'])\n",
        "# checkpoint\n",
        "filepath=\"best_model.hdf5\"\n",
        "checkpoint = ModelCheckpoint(filepath, monitor='val_acc', verbose=1, save_best_only=True, mode='max')\n",
        "#callbacks_list = [checkpoint]\n"
      ],
      "execution_count": 0,
      "outputs": []
    },
    {
      "cell_type": "code",
      "metadata": {
        "id": "QAl0i8F9Iypy",
        "colab_type": "code",
        "outputId": "3f3b4415-3f7d-407c-9000-77ace687f50c",
        "colab": {
          "base_uri": "https://localhost:8080/",
          "height": 1000
        }
      },
      "source": [
        "model.fit(trainX, trainy, batch_size=256, epochs=50, verbose=1, validation_data=(X_test, Y_test), callbacks=[checkpoint,LearningRateScheduler(scheduler, verbose=1)])"
      ],
      "execution_count": 56,
      "outputs": [
        {
          "output_type": "stream",
          "text": [
            "Train on 60000 samples, validate on 10000 samples\n",
            "Epoch 1/50\n",
            "\n",
            "Epoch 00001: LearningRateScheduler setting learning rate to 0.003.\n",
            "60000/60000 [==============================] - 9s 152us/step - loss: 0.4704 - acc: 0.8742 - val_loss: 0.2089 - val_acc: 0.9544\n",
            "\n",
            "Epoch 00001: val_acc improved from -inf to 0.95440, saving model to best_model.hdf5\n",
            "Epoch 2/50\n",
            "\n",
            "Epoch 00002: LearningRateScheduler setting learning rate to 0.0022744503.\n",
            "60000/60000 [==============================] - 4s 59us/step - loss: 0.1608 - acc: 0.9687 - val_loss: 0.2056 - val_acc: 0.9524\n",
            "\n",
            "Epoch 00002: val_acc did not improve from 0.95440\n",
            "Epoch 3/50\n",
            "\n",
            "Epoch 00003: LearningRateScheduler setting learning rate to 0.0018315018.\n",
            "60000/60000 [==============================] - 4s 59us/step - loss: 0.1276 - acc: 0.9762 - val_loss: 0.1216 - val_acc: 0.9764\n",
            "\n",
            "Epoch 00003: val_acc improved from 0.95440 to 0.97640, saving model to best_model.hdf5\n",
            "Epoch 4/50\n",
            "\n",
            "Epoch 00004: LearningRateScheduler setting learning rate to 0.0015329586.\n",
            "60000/60000 [==============================] - 3s 58us/step - loss: 0.1109 - acc: 0.9798 - val_loss: 0.0848 - val_acc: 0.9867\n",
            "\n",
            "Epoch 00004: val_acc improved from 0.97640 to 0.98670, saving model to best_model.hdf5\n",
            "Epoch 5/50\n",
            "\n",
            "Epoch 00005: LearningRateScheduler setting learning rate to 0.0013181019.\n",
            "60000/60000 [==============================] - 4s 61us/step - loss: 0.1001 - acc: 0.9807 - val_loss: 0.0835 - val_acc: 0.9852\n",
            "\n",
            "Epoch 00005: val_acc did not improve from 0.98670\n",
            "Epoch 6/50\n",
            "\n",
            "Epoch 00006: LearningRateScheduler setting learning rate to 0.0011560694.\n",
            "60000/60000 [==============================] - 4s 59us/step - loss: 0.0896 - acc: 0.9832 - val_loss: 0.0765 - val_acc: 0.9862\n",
            "\n",
            "Epoch 00006: val_acc did not improve from 0.98670\n",
            "Epoch 7/50\n",
            "\n",
            "Epoch 00007: LearningRateScheduler setting learning rate to 0.0010295127.\n",
            "60000/60000 [==============================] - 4s 59us/step - loss: 0.0859 - acc: 0.9836 - val_loss: 0.0762 - val_acc: 0.9867\n",
            "\n",
            "Epoch 00007: val_acc did not improve from 0.98670\n",
            "Epoch 8/50\n",
            "\n",
            "Epoch 00008: LearningRateScheduler setting learning rate to 0.0009279307.\n",
            "60000/60000 [==============================] - 4s 59us/step - loss: 0.0794 - acc: 0.9853 - val_loss: 0.0890 - val_acc: 0.9811\n",
            "\n",
            "Epoch 00008: val_acc did not improve from 0.98670\n",
            "Epoch 9/50\n",
            "\n",
            "Epoch 00009: LearningRateScheduler setting learning rate to 0.0008445946.\n",
            "60000/60000 [==============================] - 4s 61us/step - loss: 0.0752 - acc: 0.9856 - val_loss: 0.0678 - val_acc: 0.9880\n",
            "\n",
            "Epoch 00009: val_acc improved from 0.98670 to 0.98800, saving model to best_model.hdf5\n",
            "Epoch 10/50\n",
            "\n",
            "Epoch 00010: LearningRateScheduler setting learning rate to 0.0007749935.\n",
            "60000/60000 [==============================] - 4s 61us/step - loss: 0.0717 - acc: 0.9864 - val_loss: 0.0586 - val_acc: 0.9910\n",
            "\n",
            "Epoch 00010: val_acc improved from 0.98800 to 0.99100, saving model to best_model.hdf5\n",
            "Epoch 11/50\n",
            "\n",
            "Epoch 00011: LearningRateScheduler setting learning rate to 0.0007159905.\n",
            "60000/60000 [==============================] - 4s 60us/step - loss: 0.0675 - acc: 0.9878 - val_loss: 0.0505 - val_acc: 0.9921\n",
            "\n",
            "Epoch 00011: val_acc improved from 0.99100 to 0.99210, saving model to best_model.hdf5\n",
            "Epoch 12/50\n",
            "\n",
            "Epoch 00012: LearningRateScheduler setting learning rate to 0.000665336.\n",
            "60000/60000 [==============================] - 4s 64us/step - loss: 0.0668 - acc: 0.9870 - val_loss: 0.0542 - val_acc: 0.9910\n",
            "\n",
            "Epoch 00012: val_acc did not improve from 0.99210\n",
            "Epoch 13/50\n",
            "\n",
            "Epoch 00013: LearningRateScheduler setting learning rate to 0.0006213753.\n",
            "60000/60000 [==============================] - 4s 66us/step - loss: 0.0633 - acc: 0.9875 - val_loss: 0.0511 - val_acc: 0.9917\n",
            "\n",
            "Epoch 00013: val_acc did not improve from 0.99210\n",
            "Epoch 14/50\n",
            "\n",
            "Epoch 00014: LearningRateScheduler setting learning rate to 0.0005828638.\n",
            "60000/60000 [==============================] - 4s 63us/step - loss: 0.0627 - acc: 0.9877 - val_loss: 0.0564 - val_acc: 0.9898\n",
            "\n",
            "Epoch 00014: val_acc did not improve from 0.99210\n",
            "Epoch 15/50\n",
            "\n",
            "Epoch 00015: LearningRateScheduler setting learning rate to 0.0005488474.\n",
            "60000/60000 [==============================] - 4s 61us/step - loss: 0.0598 - acc: 0.9880 - val_loss: 0.0620 - val_acc: 0.9880\n",
            "\n",
            "Epoch 00015: val_acc did not improve from 0.99210\n",
            "Epoch 16/50\n",
            "\n",
            "Epoch 00016: LearningRateScheduler setting learning rate to 0.0005185825.\n",
            "60000/60000 [==============================] - 4s 60us/step - loss: 0.0579 - acc: 0.9889 - val_loss: 0.0462 - val_acc: 0.9921\n",
            "\n",
            "Epoch 00016: val_acc did not improve from 0.99210\n",
            "Epoch 17/50\n",
            "\n",
            "Epoch 00017: LearningRateScheduler setting learning rate to 0.000491481.\n",
            "60000/60000 [==============================] - 4s 61us/step - loss: 0.0559 - acc: 0.9895 - val_loss: 0.0563 - val_acc: 0.9892\n",
            "\n",
            "Epoch 00017: val_acc did not improve from 0.99210\n",
            "Epoch 18/50\n",
            "\n",
            "Epoch 00018: LearningRateScheduler setting learning rate to 0.0004670715.\n",
            "60000/60000 [==============================] - 4s 66us/step - loss: 0.0555 - acc: 0.9889 - val_loss: 0.0439 - val_acc: 0.9933\n",
            "\n",
            "Epoch 00018: val_acc improved from 0.99210 to 0.99330, saving model to best_model.hdf5\n",
            "Epoch 19/50\n",
            "\n",
            "Epoch 00019: LearningRateScheduler setting learning rate to 0.0004449718.\n",
            "60000/60000 [==============================] - 4s 64us/step - loss: 0.0542 - acc: 0.9895 - val_loss: 0.0531 - val_acc: 0.9894\n",
            "\n",
            "Epoch 00019: val_acc did not improve from 0.99330\n",
            "Epoch 20/50\n",
            "\n",
            "Epoch 00020: LearningRateScheduler setting learning rate to 0.000424869.\n",
            "60000/60000 [==============================] - 4s 63us/step - loss: 0.0516 - acc: 0.9903 - val_loss: 0.0439 - val_acc: 0.9925\n",
            "\n",
            "Epoch 00020: val_acc did not improve from 0.99330\n",
            "Epoch 21/50\n",
            "\n",
            "Epoch 00021: LearningRateScheduler setting learning rate to 0.0004065041.\n",
            "60000/60000 [==============================] - 4s 63us/step - loss: 0.0514 - acc: 0.9900 - val_loss: 0.0470 - val_acc: 0.9906\n",
            "\n",
            "Epoch 00021: val_acc did not improve from 0.99330\n",
            "Epoch 22/50\n",
            "\n",
            "Epoch 00022: LearningRateScheduler setting learning rate to 0.000389661.\n",
            "60000/60000 [==============================] - 4s 61us/step - loss: 0.0516 - acc: 0.9897 - val_loss: 0.0427 - val_acc: 0.9925\n",
            "\n",
            "Epoch 00022: val_acc did not improve from 0.99330\n",
            "Epoch 23/50\n",
            "\n",
            "Epoch 00023: LearningRateScheduler setting learning rate to 0.0003741581.\n",
            "60000/60000 [==============================] - 4s 61us/step - loss: 0.0496 - acc: 0.9902 - val_loss: 0.0421 - val_acc: 0.9920\n",
            "\n",
            "Epoch 00023: val_acc did not improve from 0.99330\n",
            "Epoch 24/50\n",
            "\n",
            "Epoch 00024: LearningRateScheduler setting learning rate to 0.0003598417.\n",
            "60000/60000 [==============================] - 4s 60us/step - loss: 0.0480 - acc: 0.9904 - val_loss: 0.0422 - val_acc: 0.9922\n",
            "\n",
            "Epoch 00024: val_acc did not improve from 0.99330\n",
            "Epoch 25/50\n",
            "\n",
            "Epoch 00025: LearningRateScheduler setting learning rate to 0.0003465804.\n",
            "60000/60000 [==============================] - 4s 61us/step - loss: 0.0478 - acc: 0.9907 - val_loss: 0.0422 - val_acc: 0.9926\n",
            "\n",
            "Epoch 00025: val_acc did not improve from 0.99330\n",
            "Epoch 26/50\n",
            "\n",
            "Epoch 00026: LearningRateScheduler setting learning rate to 0.0003342618.\n",
            "60000/60000 [==============================] - 4s 61us/step - loss: 0.0473 - acc: 0.9908 - val_loss: 0.0400 - val_acc: 0.9926\n",
            "\n",
            "Epoch 00026: val_acc did not improve from 0.99330\n",
            "Epoch 27/50\n",
            "\n",
            "Epoch 00027: LearningRateScheduler setting learning rate to 0.0003227889.\n",
            "60000/60000 [==============================] - 4s 60us/step - loss: 0.0467 - acc: 0.9905 - val_loss: 0.0387 - val_acc: 0.9935\n",
            "\n",
            "Epoch 00027: val_acc improved from 0.99330 to 0.99350, saving model to best_model.hdf5\n",
            "Epoch 28/50\n",
            "\n",
            "Epoch 00028: LearningRateScheduler setting learning rate to 0.0003120774.\n",
            "60000/60000 [==============================] - 4s 63us/step - loss: 0.0460 - acc: 0.9910 - val_loss: 0.0401 - val_acc: 0.9927\n",
            "\n",
            "Epoch 00028: val_acc did not improve from 0.99350\n",
            "Epoch 29/50\n",
            "\n",
            "Epoch 00029: LearningRateScheduler setting learning rate to 0.000302054.\n",
            "60000/60000 [==============================] - 4s 67us/step - loss: 0.0459 - acc: 0.9908 - val_loss: 0.0405 - val_acc: 0.9926\n",
            "\n",
            "Epoch 00029: val_acc did not improve from 0.99350\n",
            "Epoch 30/50\n",
            "\n",
            "Epoch 00030: LearningRateScheduler setting learning rate to 0.0002926544.\n",
            "60000/60000 [==============================] - 4s 63us/step - loss: 0.0440 - acc: 0.9910 - val_loss: 0.0385 - val_acc: 0.9930\n",
            "\n",
            "Epoch 00030: val_acc did not improve from 0.99350\n",
            "Epoch 31/50\n",
            "\n",
            "Epoch 00031: LearningRateScheduler setting learning rate to 0.0002838221.\n",
            "60000/60000 [==============================] - 4s 65us/step - loss: 0.0450 - acc: 0.9912 - val_loss: 0.0372 - val_acc: 0.9933\n",
            "\n",
            "Epoch 00031: val_acc did not improve from 0.99350\n",
            "Epoch 32/50\n",
            "\n",
            "Epoch 00032: LearningRateScheduler setting learning rate to 0.0002755074.\n",
            "60000/60000 [==============================] - 4s 60us/step - loss: 0.0430 - acc: 0.9916 - val_loss: 0.0392 - val_acc: 0.9923\n",
            "\n",
            "Epoch 00032: val_acc did not improve from 0.99350\n",
            "Epoch 33/50\n",
            "\n",
            "Epoch 00033: LearningRateScheduler setting learning rate to 0.000267666.\n",
            "60000/60000 [==============================] - 4s 61us/step - loss: 0.0432 - acc: 0.9910 - val_loss: 0.0359 - val_acc: 0.9936\n",
            "\n",
            "Epoch 00033: val_acc improved from 0.99350 to 0.99360, saving model to best_model.hdf5\n",
            "Epoch 34/50\n",
            "\n",
            "Epoch 00034: LearningRateScheduler setting learning rate to 0.0002602585.\n",
            "60000/60000 [==============================] - 4s 62us/step - loss: 0.0427 - acc: 0.9915 - val_loss: 0.0369 - val_acc: 0.9933\n",
            "\n",
            "Epoch 00034: val_acc did not improve from 0.99360\n",
            "Epoch 35/50\n",
            "\n",
            "Epoch 00035: LearningRateScheduler setting learning rate to 0.00025325.\n",
            "60000/60000 [==============================] - 4s 60us/step - loss: 0.0421 - acc: 0.9915 - val_loss: 0.0354 - val_acc: 0.9939\n",
            "\n",
            "Epoch 00035: val_acc improved from 0.99360 to 0.99390, saving model to best_model.hdf5\n",
            "Epoch 36/50\n",
            "\n",
            "Epoch 00036: LearningRateScheduler setting learning rate to 0.0002466091.\n",
            "60000/60000 [==============================] - 4s 59us/step - loss: 0.0418 - acc: 0.9912 - val_loss: 0.0362 - val_acc: 0.9925\n",
            "\n",
            "Epoch 00036: val_acc did not improve from 0.99390\n",
            "Epoch 37/50\n",
            "\n",
            "Epoch 00037: LearningRateScheduler setting learning rate to 0.0002403076.\n",
            "60000/60000 [==============================] - 4s 60us/step - loss: 0.0419 - acc: 0.9915 - val_loss: 0.0395 - val_acc: 0.9921\n",
            "\n",
            "Epoch 00037: val_acc did not improve from 0.99390\n",
            "Epoch 38/50\n",
            "\n",
            "Epoch 00038: LearningRateScheduler setting learning rate to 0.0002343201.\n",
            "60000/60000 [==============================] - 4s 60us/step - loss: 0.0415 - acc: 0.9918 - val_loss: 0.0372 - val_acc: 0.9936\n",
            "\n",
            "Epoch 00038: val_acc did not improve from 0.99390\n",
            "Epoch 39/50\n",
            "\n",
            "Epoch 00039: LearningRateScheduler setting learning rate to 0.0002286237.\n",
            "60000/60000 [==============================] - 4s 61us/step - loss: 0.0410 - acc: 0.9919 - val_loss: 0.0371 - val_acc: 0.9931\n",
            "\n",
            "Epoch 00039: val_acc did not improve from 0.99390\n",
            "Epoch 40/50\n",
            "\n",
            "Epoch 00040: LearningRateScheduler setting learning rate to 0.0002231977.\n",
            "60000/60000 [==============================] - 4s 59us/step - loss: 0.0402 - acc: 0.9919 - val_loss: 0.0376 - val_acc: 0.9924\n",
            "\n",
            "Epoch 00040: val_acc did not improve from 0.99390\n",
            "Epoch 41/50\n",
            "\n",
            "Epoch 00041: LearningRateScheduler setting learning rate to 0.0002180233.\n",
            "60000/60000 [==============================] - 4s 61us/step - loss: 0.0408 - acc: 0.9916 - val_loss: 0.0356 - val_acc: 0.9935\n",
            "\n",
            "Epoch 00041: val_acc did not improve from 0.99390\n",
            "Epoch 42/50\n",
            "\n",
            "Epoch 00042: LearningRateScheduler setting learning rate to 0.0002130833.\n",
            "60000/60000 [==============================] - 4s 60us/step - loss: 0.0406 - acc: 0.9917 - val_loss: 0.0379 - val_acc: 0.9927\n",
            "\n",
            "Epoch 00042: val_acc did not improve from 0.99390\n",
            "Epoch 43/50\n",
            "\n",
            "Epoch 00043: LearningRateScheduler setting learning rate to 0.0002083623.\n",
            "60000/60000 [==============================] - 4s 60us/step - loss: 0.0402 - acc: 0.9917 - val_loss: 0.0389 - val_acc: 0.9922\n",
            "\n",
            "Epoch 00043: val_acc did not improve from 0.99390\n",
            "Epoch 44/50\n",
            "\n",
            "Epoch 00044: LearningRateScheduler setting learning rate to 0.0002038459.\n",
            "60000/60000 [==============================] - 4s 60us/step - loss: 0.0381 - acc: 0.9922 - val_loss: 0.0357 - val_acc: 0.9932\n",
            "\n",
            "Epoch 00044: val_acc did not improve from 0.99390\n",
            "Epoch 45/50\n",
            "\n",
            "Epoch 00045: LearningRateScheduler setting learning rate to 0.0001995211.\n",
            "60000/60000 [==============================] - 4s 67us/step - loss: 0.0389 - acc: 0.9921 - val_loss: 0.0334 - val_acc: 0.9936\n",
            "\n",
            "Epoch 00045: val_acc did not improve from 0.99390\n",
            "Epoch 46/50\n",
            "\n",
            "Epoch 00046: LearningRateScheduler setting learning rate to 0.0001953761.\n",
            "60000/60000 [==============================] - 4s 63us/step - loss: 0.0378 - acc: 0.9923 - val_loss: 0.0335 - val_acc: 0.9931\n",
            "\n",
            "Epoch 00046: val_acc did not improve from 0.99390\n",
            "Epoch 47/50\n",
            "\n",
            "Epoch 00047: LearningRateScheduler setting learning rate to 0.0001913998.\n",
            "60000/60000 [==============================] - 4s 64us/step - loss: 0.0390 - acc: 0.9920 - val_loss: 0.0349 - val_acc: 0.9929\n",
            "\n",
            "Epoch 00047: val_acc did not improve from 0.99390\n",
            "Epoch 48/50\n",
            "\n",
            "Epoch 00048: LearningRateScheduler setting learning rate to 0.0001875821.\n",
            "60000/60000 [==============================] - 4s 59us/step - loss: 0.0368 - acc: 0.9927 - val_loss: 0.0343 - val_acc: 0.9940\n",
            "\n",
            "Epoch 00048: val_acc improved from 0.99390 to 0.99400, saving model to best_model.hdf5\n",
            "Epoch 49/50\n",
            "\n",
            "Epoch 00049: LearningRateScheduler setting learning rate to 0.0001839137.\n",
            "60000/60000 [==============================] - 4s 60us/step - loss: 0.0382 - acc: 0.9925 - val_loss: 0.0353 - val_acc: 0.9935\n",
            "\n",
            "Epoch 00049: val_acc did not improve from 0.99400\n",
            "Epoch 50/50\n",
            "\n",
            "Epoch 00050: LearningRateScheduler setting learning rate to 0.000180386.\n",
            "60000/60000 [==============================] - 4s 60us/step - loss: 0.0380 - acc: 0.9924 - val_loss: 0.0348 - val_acc: 0.9926\n",
            "\n",
            "Epoch 00050: val_acc did not improve from 0.99400\n"
          ],
          "name": "stdout"
        },
        {
          "output_type": "execute_result",
          "data": {
            "text/plain": [
              "<keras.callbacks.History at 0x7f7bcde8d320>"
            ]
          },
          "metadata": {
            "tags": []
          },
          "execution_count": 56
        }
      ]
    },
    {
      "cell_type": "markdown",
      "metadata": {
        "id": "SV1hwLVofVay",
        "colab_type": "text"
      },
      "source": [
        "### Now Let's load the best model and let's check the validation accuracy:"
      ]
    },
    {
      "cell_type": "code",
      "metadata": {
        "id": "WLxlW9ufyQiO",
        "colab_type": "code",
        "outputId": "2b0194ca-14bb-4e56-8491-3e9cabfdd39b",
        "colab": {
          "base_uri": "https://localhost:8080/",
          "height": 34
        }
      },
      "source": [
        "model.load_weights('best_model.hdf5')\n",
        "score = model.evaluate(X_test, Y_test, verbose=0)\n",
        "y_pred = model.predict(X_test)\n",
        "print(score)"
      ],
      "execution_count": 57,
      "outputs": [
        {
          "output_type": "stream",
          "text": [
            "[0.03434422820061445, 0.994]\n"
          ],
          "name": "stdout"
        }
      ]
    },
    {
      "cell_type": "markdown",
      "metadata": {
        "id": "we2v9iMrfgfo",
        "colab_type": "text"
      },
      "source": [
        "### As we can see we have already achieved 99.4% accuracy in validation set. Now lets see the missclassified images and lets find out 25 such images and let's see actually what they look like:"
      ]
    },
    {
      "cell_type": "code",
      "metadata": {
        "id": "HtYmhXKj6ki3",
        "colab_type": "code",
        "outputId": "5a9df6db-cab3-4263-f9e8-084c38422d35",
        "colab": {
          "base_uri": "https://localhost:8080/",
          "height": 866
        }
      },
      "source": [
        "# getting index of all misclasified images\n",
        "img_index = []\n",
        "for i in range(1,X_test.shape[0]):\n",
        "  if np.argmax(y_pred[i])!=y_test[i]:\n",
        "    img_index.append(i)\n",
        "\n",
        "    # function to reconvert image array to an 0-255 scale    \n",
        "def image_reconstract(x):\n",
        "    # normalize tensor: center on 0., ensure std is 0.1\n",
        "    x -= x.mean()\n",
        "    x /= (x.std() + 1e-5)\n",
        "    x *= 0.1\n",
        "\n",
        "    # clip to [0, 1]\n",
        "    x += 0.5\n",
        "    x = np.clip(x, 0, 1)\n",
        "\n",
        "    # convert to RGB array\n",
        "    x *= 255\n",
        "    #x = x.transpose((1, 2, 0))\n",
        "    x = np.clip(x, 0, 255).astype('uint8')\n",
        "    return x\n",
        "\n",
        "# Storing 25 misclassified images into a variable after converting them  into 0-255 scale. Also, storing actual and predicted output values for those images\n",
        "img_actual = [] \n",
        "img_actual_value = []\n",
        "img_pred_value = []\n",
        "for i in range(1,26):\n",
        "    img_req = np.array(X_test[img_index[i-1]]).reshape((28, 28)).astype(np.float64)\n",
        "    img_req = image_reconstract(img_req).reshape((28, 28))\n",
        "    img_actual.append(img_req)\n",
        "    img_actual_value.append(y_test[img_index[i-1]])\n",
        "    img_pred_value.append(np.argmax(y_pred[img_index[i-1]]))\n",
        "\n",
        "# Plotting all 25 images    \n",
        "row = 5\n",
        "col = 5\n",
        "fig=plt.figure(figsize=(15, 15))\n",
        "for i in range(0,row*col):\n",
        "  fig.add_subplot(row,col,i+1)\n",
        "  plt.imshow(img_actual[i],cmap='gray') \n",
        "  plt.title('Actual: '+str(img_actual_value[i])+' & Predicted: '+str(img_pred_value[i]))\n",
        "  plt.xticks([])\n",
        "  plt.yticks([])\n",
        "plt.show() "
      ],
      "execution_count": 58,
      "outputs": [
        {
          "output_type": "display_data",
          "data": {
            "image/png": "[encoded data removed]",
            "text/plain": [
              "<Figure size 1080x1080 with 25 Axes>"
            ]
          },
          "metadata": {
            "tags": []
          }
        }
      ]
    },
    {
      "cell_type": "markdown",
      "metadata": {
        "id": "xuaN9O8zq8vs",
        "colab_type": "text"
      },
      "source": [
        "### So, above cell we can see such 25 images for which our model wrongly classified them. Also, we can see the acutual and predicted values of these 25 images to get some idea of maybe how our model wrongly classified them. We can see that these 25 images though they are actually different but at some extent they look like predicted value. We can even introduce some image augmentation strategy by looking at these images so that out model performs even better."
      ]
    }
  ]
}